{
 "cells": [
  {
   "cell_type": "markdown",
   "id": "782721c7",
   "metadata": {},
   "source": [
    "# Import Library and import files"
   ]
  },
  {
   "cell_type": "markdown",
   "id": "52aa8b0d",
   "metadata": {},
   "source": [
    "Data collection method: web scraping\n",
    "Data is pre-cleaned"
   ]
  },
  {
   "cell_type": "code",
   "execution_count": 1,
   "id": "475e8014",
   "metadata": {},
   "outputs": [
    {
     "data": {
      "text/html": [
       "<div>\n",
       "<style scoped>\n",
       "    .dataframe tbody tr th:only-of-type {\n",
       "        vertical-align: middle;\n",
       "    }\n",
       "\n",
       "    .dataframe tbody tr th {\n",
       "        vertical-align: top;\n",
       "    }\n",
       "\n",
       "    .dataframe thead th {\n",
       "        text-align: right;\n",
       "    }\n",
       "</style>\n",
       "<table border=\"1\" class=\"dataframe\">\n",
       "  <thead>\n",
       "    <tr style=\"text-align: right;\">\n",
       "      <th></th>\n",
       "      <th>id</th>\n",
       "      <th>price</th>\n",
       "      <th>room</th>\n",
       "      <th>bath</th>\n",
       "      <th>size</th>\n",
       "      <th>gym</th>\n",
       "      <th>parking</th>\n",
       "      <th>pool</th>\n",
       "      <th>library</th>\n",
       "      <th>club</th>\n",
       "      <th>cbd</th>\n",
       "    </tr>\n",
       "  </thead>\n",
       "  <tbody>\n",
       "    <tr>\n",
       "      <th>0</th>\n",
       "      <td>10001</td>\n",
       "      <td>134272.73</td>\n",
       "      <td>1</td>\n",
       "      <td>1</td>\n",
       "      <td>52.00</td>\n",
       "      <td>1</td>\n",
       "      <td>1</td>\n",
       "      <td>1</td>\n",
       "      <td>0</td>\n",
       "      <td>0</td>\n",
       "      <td>1</td>\n",
       "    </tr>\n",
       "    <tr>\n",
       "      <th>1</th>\n",
       "      <td>10002</td>\n",
       "      <td>114297.82</td>\n",
       "      <td>1</td>\n",
       "      <td>1</td>\n",
       "      <td>34.99</td>\n",
       "      <td>1</td>\n",
       "      <td>0</td>\n",
       "      <td>1</td>\n",
       "      <td>0</td>\n",
       "      <td>0</td>\n",
       "      <td>1</td>\n",
       "    </tr>\n",
       "    <tr>\n",
       "      <th>2</th>\n",
       "      <td>10003</td>\n",
       "      <td>64316.15</td>\n",
       "      <td>2</td>\n",
       "      <td>2</td>\n",
       "      <td>98.00</td>\n",
       "      <td>1</td>\n",
       "      <td>0</td>\n",
       "      <td>1</td>\n",
       "      <td>0</td>\n",
       "      <td>0</td>\n",
       "      <td>1</td>\n",
       "    </tr>\n",
       "    <tr>\n",
       "      <th>3</th>\n",
       "      <td>10004</td>\n",
       "      <td>106245.32</td>\n",
       "      <td>1</td>\n",
       "      <td>1</td>\n",
       "      <td>45.70</td>\n",
       "      <td>1</td>\n",
       "      <td>0</td>\n",
       "      <td>1</td>\n",
       "      <td>0</td>\n",
       "      <td>0</td>\n",
       "      <td>1</td>\n",
       "    </tr>\n",
       "    <tr>\n",
       "      <th>4</th>\n",
       "      <td>10005</td>\n",
       "      <td>175187.95</td>\n",
       "      <td>2</td>\n",
       "      <td>2</td>\n",
       "      <td>97.00</td>\n",
       "      <td>1</td>\n",
       "      <td>0</td>\n",
       "      <td>0</td>\n",
       "      <td>0</td>\n",
       "      <td>0</td>\n",
       "      <td>1</td>\n",
       "    </tr>\n",
       "    <tr>\n",
       "      <th>...</th>\n",
       "      <td>...</td>\n",
       "      <td>...</td>\n",
       "      <td>...</td>\n",
       "      <td>...</td>\n",
       "      <td>...</td>\n",
       "      <td>...</td>\n",
       "      <td>...</td>\n",
       "      <td>...</td>\n",
       "      <td>...</td>\n",
       "      <td>...</td>\n",
       "      <td>...</td>\n",
       "    </tr>\n",
       "    <tr>\n",
       "      <th>1595</th>\n",
       "      <td>11596</td>\n",
       "      <td>78289.57</td>\n",
       "      <td>0</td>\n",
       "      <td>1</td>\n",
       "      <td>22.00</td>\n",
       "      <td>1</td>\n",
       "      <td>1</td>\n",
       "      <td>1</td>\n",
       "      <td>0</td>\n",
       "      <td>0</td>\n",
       "      <td>0</td>\n",
       "    </tr>\n",
       "    <tr>\n",
       "      <th>1596</th>\n",
       "      <td>11597</td>\n",
       "      <td>148638.65</td>\n",
       "      <td>1</td>\n",
       "      <td>2</td>\n",
       "      <td>70.00</td>\n",
       "      <td>1</td>\n",
       "      <td>1</td>\n",
       "      <td>1</td>\n",
       "      <td>0</td>\n",
       "      <td>0</td>\n",
       "      <td>0</td>\n",
       "    </tr>\n",
       "    <tr>\n",
       "      <th>1597</th>\n",
       "      <td>11598</td>\n",
       "      <td>175892.86</td>\n",
       "      <td>2</td>\n",
       "      <td>2</td>\n",
       "      <td>80.00</td>\n",
       "      <td>1</td>\n",
       "      <td>1</td>\n",
       "      <td>1</td>\n",
       "      <td>0</td>\n",
       "      <td>0</td>\n",
       "      <td>1</td>\n",
       "    </tr>\n",
       "    <tr>\n",
       "      <th>1598</th>\n",
       "      <td>11599</td>\n",
       "      <td>79545.45</td>\n",
       "      <td>1</td>\n",
       "      <td>1</td>\n",
       "      <td>32.00</td>\n",
       "      <td>1</td>\n",
       "      <td>0</td>\n",
       "      <td>1</td>\n",
       "      <td>0</td>\n",
       "      <td>0</td>\n",
       "      <td>0</td>\n",
       "    </tr>\n",
       "    <tr>\n",
       "      <th>1599</th>\n",
       "      <td>11600</td>\n",
       "      <td>120859.24</td>\n",
       "      <td>1</td>\n",
       "      <td>1</td>\n",
       "      <td>35.00</td>\n",
       "      <td>1</td>\n",
       "      <td>1</td>\n",
       "      <td>1</td>\n",
       "      <td>0</td>\n",
       "      <td>0</td>\n",
       "      <td>1</td>\n",
       "    </tr>\n",
       "  </tbody>\n",
       "</table>\n",
       "<p>1600 rows × 11 columns</p>\n",
       "</div>"
      ],
      "text/plain": [
       "         id      price  room  bath   size  gym  parking  pool  library  club  \\\n",
       "0     10001  134272.73     1     1  52.00    1        1     1        0     0   \n",
       "1     10002  114297.82     1     1  34.99    1        0     1        0     0   \n",
       "2     10003   64316.15     2     2  98.00    1        0     1        0     0   \n",
       "3     10004  106245.32     1     1  45.70    1        0     1        0     0   \n",
       "4     10005  175187.95     2     2  97.00    1        0     0        0     0   \n",
       "...     ...        ...   ...   ...    ...  ...      ...   ...      ...   ...   \n",
       "1595  11596   78289.57     0     1  22.00    1        1     1        0     0   \n",
       "1596  11597  148638.65     1     2  70.00    1        1     1        0     0   \n",
       "1597  11598  175892.86     2     2  80.00    1        1     1        0     0   \n",
       "1598  11599   79545.45     1     1  32.00    1        0     1        0     0   \n",
       "1599  11600  120859.24     1     1  35.00    1        1     1        0     0   \n",
       "\n",
       "      cbd  \n",
       "0       1  \n",
       "1       1  \n",
       "2       1  \n",
       "3       1  \n",
       "4       1  \n",
       "...   ...  \n",
       "1595    0  \n",
       "1596    0  \n",
       "1597    1  \n",
       "1598    0  \n",
       "1599    1  \n",
       "\n",
       "[1600 rows x 11 columns]"
      ]
     },
     "execution_count": 1,
     "metadata": {},
     "output_type": "execute_result"
    }
   ],
   "source": [
    "import numpy as np\n",
    "import pandas as pd\n",
    "from sklearn.model_selection import train_test_split\n",
    "from matplotlib import pyplot as plt\n",
    "from sklearn import metrics\n",
    "import seaborn as sns\n",
    "from sklearn.neighbors import KNeighborsRegressor\n",
    "from sklearn.tree import DecisionTreeRegressor\n",
    "from sklearn.linear_model import LinearRegression\n",
    "from sklearn.ensemble import RandomForestRegressor\n",
    "from sklearn.linear_model import Lasso\n",
    "from sklearn.linear_model import ElasticNet\n",
    "from sklearn.metrics import r2_score, mean_squared_error\n",
    "\n",
    "\n",
    "train = pd.read_csv(\"C:/Users/user/OneDrive/Desktop/condo_train.csv\")\n",
    "test = pd.read_csv(\"C:/Users/user/OneDrive/Desktop/condo_test.csv\")\n",
    "train"
   ]
  },
  {
   "cell_type": "code",
   "execution_count": 2,
   "id": "cf5e331e",
   "metadata": {},
   "outputs": [
    {
     "name": "stdout",
     "output_type": "stream",
     "text": [
      "id         0\n",
      "price      0\n",
      "room       0\n",
      "bath       0\n",
      "size       0\n",
      "gym        0\n",
      "parking    0\n",
      "pool       0\n",
      "library    0\n",
      "club       0\n",
      "cbd        0\n",
      "dtype: int64\n",
      "Duplicated:  0\n"
     ]
    }
   ],
   "source": [
    "print(train.isnull().sum())\n",
    "print(\"Duplicated: \",train[\"id\"].duplicated().sum())"
   ]
  },
  {
   "cell_type": "markdown",
   "id": "29c62d30",
   "metadata": {},
   "source": [
    "# EDA"
   ]
  },
  {
   "cell_type": "code",
   "execution_count": 3,
   "id": "f5ccbf19",
   "metadata": {},
   "outputs": [
    {
     "name": "stderr",
     "output_type": "stream",
     "text": [
      "C:\\Users\\user\\anaconda3\\lib\\site-packages\\seaborn\\_decorators.py:36: FutureWarning: Pass the following variable as a keyword arg: x. From version 0.12, the only valid positional argument will be `data`, and passing other arguments without an explicit keyword will result in an error or misinterpretation.\n",
      "  warnings.warn(\n",
      "C:\\Users\\user\\anaconda3\\lib\\site-packages\\seaborn\\_decorators.py:36: FutureWarning: Pass the following variable as a keyword arg: x. From version 0.12, the only valid positional argument will be `data`, and passing other arguments without an explicit keyword will result in an error or misinterpretation.\n",
      "  warnings.warn(\n",
      "C:\\Users\\user\\anaconda3\\lib\\site-packages\\seaborn\\_decorators.py:36: FutureWarning: Pass the following variable as a keyword arg: x. From version 0.12, the only valid positional argument will be `data`, and passing other arguments without an explicit keyword will result in an error or misinterpretation.\n",
      "  warnings.warn(\n",
      "C:\\Users\\user\\anaconda3\\lib\\site-packages\\seaborn\\_decorators.py:36: FutureWarning: Pass the following variable as a keyword arg: x. From version 0.12, the only valid positional argument will be `data`, and passing other arguments without an explicit keyword will result in an error or misinterpretation.\n",
      "  warnings.warn(\n",
      "C:\\Users\\user\\anaconda3\\lib\\site-packages\\seaborn\\_decorators.py:36: FutureWarning: Pass the following variable as a keyword arg: x. From version 0.12, the only valid positional argument will be `data`, and passing other arguments without an explicit keyword will result in an error or misinterpretation.\n",
      "  warnings.warn(\n",
      "C:\\Users\\user\\anaconda3\\lib\\site-packages\\seaborn\\_decorators.py:36: FutureWarning: Pass the following variable as a keyword arg: x. From version 0.12, the only valid positional argument will be `data`, and passing other arguments without an explicit keyword will result in an error or misinterpretation.\n",
      "  warnings.warn(\n",
      "C:\\Users\\user\\anaconda3\\lib\\site-packages\\seaborn\\_decorators.py:36: FutureWarning: Pass the following variable as a keyword arg: x. From version 0.12, the only valid positional argument will be `data`, and passing other arguments without an explicit keyword will result in an error or misinterpretation.\n",
      "  warnings.warn(\n",
      "C:\\Users\\user\\anaconda3\\lib\\site-packages\\seaborn\\_decorators.py:36: FutureWarning: Pass the following variable as a keyword arg: x. From version 0.12, the only valid positional argument will be `data`, and passing other arguments without an explicit keyword will result in an error or misinterpretation.\n",
      "  warnings.warn(\n"
     ]
    },
    {
     "data": {
      "image/png": "[encoded data removed]",
      "text/plain": [
       "<Figure size 1296x720 with 8 Axes>"
      ]
     },
     "metadata": {
      "needs_background": "light"
     },
     "output_type": "display_data"
    },
    {
     "name": "stderr",
     "output_type": "stream",
     "text": [
      "<ipython-input-3-882467057385>:28: UserWarning: Matplotlib is currently using module://ipykernel.pylab.backend_inline, which is a non-GUI backend, so cannot show the figure.\n",
      "  fig.show()\n"
     ]
    }
   ],
   "source": [
    "room = train['room']\n",
    "bath = train['bath']\n",
    "gym = train['gym']\n",
    "parking = train['parking']\n",
    "pool = train['pool']\n",
    "library = train['library']\n",
    "club = train['club']\n",
    "cbd = train['cbd']\n",
    "\n",
    "fig, ax =plt.subplots(2,4, figsize=(18,10))\n",
    "sns.countplot(room, ax=ax[0,0])\n",
    "sns.countplot(bath, ax=ax[0,1])\n",
    "sns.countplot(gym, ax=ax[0,2])\n",
    "sns.countplot(parking, ax=ax[0,3])\n",
    "sns.countplot(library, ax=ax[1,0])\n",
    "sns.countplot(club, ax=ax[1,1])\n",
    "sns.countplot(pool, ax=ax[1,2])\n",
    "sns.countplot(cbd, ax=ax[1,3])\n",
    "\n",
    "plt.subplots_adjust(left=0.1,\n",
    "                    bottom=0.1,\n",
    "                    right=0.9,\n",
    "                    top=0.9,\n",
    "                    wspace=0.7,\n",
    "                    hspace=0.2)\n",
    "plt.show()\n",
    "\n",
    "fig.show()"
   ]
  },
  {
   "cell_type": "code",
   "execution_count": 4,
   "id": "3a70a764",
   "metadata": {},
   "outputs": [],
   "source": [
    "train.drop(train[train[\"room\"] == 0].index, inplace = True)"
   ]
  },
  {
   "cell_type": "code",
   "execution_count": 5,
   "id": "717d89f6",
   "metadata": {},
   "outputs": [
    {
     "data": {
      "text/plain": [
       "(array([1.37e+03, 9.50e+01, 1.60e+01, 6.00e+00, 3.00e+00, 1.00e+00,\n",
       "        0.00e+00, 0.00e+00, 0.00e+00, 1.00e+00]),\n",
       " array([ 19. , 107.6, 196.2, 284.8, 373.4, 462. , 550.6, 639.2, 727.8,\n",
       "        816.4, 905. ]),\n",
       " <BarContainer object of 10 artists>)"
      ]
     },
     "execution_count": 5,
     "metadata": {},
     "output_type": "execute_result"
    },
    {
     "data": {
      "image/png": "[encoded data removed]",
      "text/plain": [
       "<Figure size 1152x360 with 2 Axes>"
      ]
     },
     "metadata": {
      "needs_background": "light"
     },
     "output_type": "display_data"
    }
   ],
   "source": [
    "price_range = train[\"price\"]\n",
    "size_range = train[\"size\"]\n",
    "\n",
    "fig, (ax1, ax2) = plt.subplots(1, 2, figsize=(16,5))\n",
    "fig.suptitle('Price/Size range')\n",
    "ax1.hist(price_range)\n",
    "ax2.hist(size_range)"
   ]
  },
  {
   "cell_type": "code",
   "execution_count": 6,
   "id": "da851a3a",
   "metadata": {},
   "outputs": [
    {
     "name": "stdout",
     "output_type": "stream",
     "text": [
      "price_summ\n",
      "count      1492.000000\n",
      "mean     121733.676468\n",
      "std       53963.997535\n",
      "min        5942.470000\n",
      "25%       82461.270000\n",
      "50%      116026.130000\n",
      "75%      154379.430000\n",
      "max      298215.430000\n",
      "Name: price, dtype: float64\n",
      "---------------------------------------------------\n",
      "size_summ\n",
      "count    1492.000000\n",
      "mean       57.588365\n",
      "std        49.301807\n",
      "min        19.000000\n",
      "25%        33.000000\n",
      "50%        45.000000\n",
      "75%        63.547500\n",
      "max       905.000000\n",
      "Name: size, dtype: float64\n"
     ]
    }
   ],
   "source": [
    "print(\"price_summ\")\n",
    "print(price_range.describe())\n",
    "print(\"---------------------------------------------------\")\n",
    "print(\"size_summ\")\n",
    "print(size_range.describe())"
   ]
  },
  {
   "cell_type": "code",
   "execution_count": 7,
   "id": "7d4f3a09",
   "metadata": {},
   "outputs": [
    {
     "data": {
      "text/plain": [
       "array([[-0.1133881 ],\n",
       "       [-0.45852157],\n",
       "       [ 0.81995342],\n",
       "       ...,\n",
       "       [ 0.45473282],\n",
       "       [-0.51918876],\n",
       "       [-0.45831867]])"
      ]
     },
     "execution_count": 7,
     "metadata": {},
     "output_type": "execute_result"
    }
   ],
   "source": [
    "from sklearn.compose import ColumnTransformer\n",
    "from sklearn.preprocessing import StandardScaler\n",
    "\n",
    "col_names = ['size']\n",
    "features = train[col_names]\n",
    "scaler = StandardScaler().fit(features.values)\n",
    "features = scaler.transform(features.values)\n",
    "\n",
    "features"
   ]
  },
  {
   "cell_type": "code",
   "execution_count": 8,
   "id": "4215c19c",
   "metadata": {},
   "outputs": [
    {
     "data": {
      "text/html": [
       "<div>\n",
       "<style scoped>\n",
       "    .dataframe tbody tr th:only-of-type {\n",
       "        vertical-align: middle;\n",
       "    }\n",
       "\n",
       "    .dataframe tbody tr th {\n",
       "        vertical-align: top;\n",
       "    }\n",
       "\n",
       "    .dataframe thead th {\n",
       "        text-align: right;\n",
       "    }\n",
       "</style>\n",
       "<table border=\"1\" class=\"dataframe\">\n",
       "  <thead>\n",
       "    <tr style=\"text-align: right;\">\n",
       "      <th></th>\n",
       "      <th>id</th>\n",
       "      <th>price</th>\n",
       "      <th>room</th>\n",
       "      <th>bath</th>\n",
       "      <th>size</th>\n",
       "      <th>gym</th>\n",
       "      <th>parking</th>\n",
       "      <th>pool</th>\n",
       "      <th>library</th>\n",
       "      <th>club</th>\n",
       "      <th>cbd</th>\n",
       "      <th>size_scaled</th>\n",
       "    </tr>\n",
       "  </thead>\n",
       "  <tbody>\n",
       "    <tr>\n",
       "      <th>0</th>\n",
       "      <td>10001</td>\n",
       "      <td>134272.73</td>\n",
       "      <td>1</td>\n",
       "      <td>1</td>\n",
       "      <td>52.00</td>\n",
       "      <td>1</td>\n",
       "      <td>1</td>\n",
       "      <td>1</td>\n",
       "      <td>0</td>\n",
       "      <td>0</td>\n",
       "      <td>1</td>\n",
       "      <td>-0.113388</td>\n",
       "    </tr>\n",
       "    <tr>\n",
       "      <th>1</th>\n",
       "      <td>10002</td>\n",
       "      <td>114297.82</td>\n",
       "      <td>1</td>\n",
       "      <td>1</td>\n",
       "      <td>34.99</td>\n",
       "      <td>1</td>\n",
       "      <td>0</td>\n",
       "      <td>1</td>\n",
       "      <td>0</td>\n",
       "      <td>0</td>\n",
       "      <td>1</td>\n",
       "      <td>-0.458522</td>\n",
       "    </tr>\n",
       "    <tr>\n",
       "      <th>2</th>\n",
       "      <td>10003</td>\n",
       "      <td>64316.15</td>\n",
       "      <td>2</td>\n",
       "      <td>2</td>\n",
       "      <td>98.00</td>\n",
       "      <td>1</td>\n",
       "      <td>0</td>\n",
       "      <td>1</td>\n",
       "      <td>0</td>\n",
       "      <td>0</td>\n",
       "      <td>1</td>\n",
       "      <td>0.819953</td>\n",
       "    </tr>\n",
       "    <tr>\n",
       "      <th>3</th>\n",
       "      <td>10004</td>\n",
       "      <td>106245.32</td>\n",
       "      <td>1</td>\n",
       "      <td>1</td>\n",
       "      <td>45.70</td>\n",
       "      <td>1</td>\n",
       "      <td>0</td>\n",
       "      <td>1</td>\n",
       "      <td>0</td>\n",
       "      <td>0</td>\n",
       "      <td>1</td>\n",
       "      <td>-0.241215</td>\n",
       "    </tr>\n",
       "    <tr>\n",
       "      <th>4</th>\n",
       "      <td>10005</td>\n",
       "      <td>175187.95</td>\n",
       "      <td>2</td>\n",
       "      <td>2</td>\n",
       "      <td>97.00</td>\n",
       "      <td>1</td>\n",
       "      <td>0</td>\n",
       "      <td>0</td>\n",
       "      <td>0</td>\n",
       "      <td>0</td>\n",
       "      <td>1</td>\n",
       "      <td>0.799663</td>\n",
       "    </tr>\n",
       "  </tbody>\n",
       "</table>\n",
       "</div>"
      ],
      "text/plain": [
       "      id      price  room  bath   size  gym  parking  pool  library  club  \\\n",
       "0  10001  134272.73     1     1  52.00    1        1     1        0     0   \n",
       "1  10002  114297.82     1     1  34.99    1        0     1        0     0   \n",
       "2  10003   64316.15     2     2  98.00    1        0     1        0     0   \n",
       "3  10004  106245.32     1     1  45.70    1        0     1        0     0   \n",
       "4  10005  175187.95     2     2  97.00    1        0     0        0     0   \n",
       "\n",
       "   cbd  size_scaled  \n",
       "0    1    -0.113388  \n",
       "1    1    -0.458522  \n",
       "2    1     0.819953  \n",
       "3    1    -0.241215  \n",
       "4    1     0.799663  "
      ]
     },
     "execution_count": 8,
     "metadata": {},
     "output_type": "execute_result"
    }
   ],
   "source": [
    "train['size_scaled'] = features\n",
    "train.head()"
   ]
  },
  {
   "cell_type": "code",
   "execution_count": 9,
   "id": "45a7c24f",
   "metadata": {},
   "outputs": [
    {
     "data": {
      "text/plain": [
       "Text(0.5, 1.0, 'pearson correlation')"
      ]
     },
     "execution_count": 9,
     "metadata": {},
     "output_type": "execute_result"
    },
    {
     "data": {
      "image/png": "[encoded data removed]",
      "text/plain": [
       "<Figure size 432x288 with 2 Axes>"
      ]
     },
     "metadata": {
      "needs_background": "light"
     },
     "output_type": "display_data"
    }
   ],
   "source": [
    "corr_matrix = train.copy()\n",
    "for col in corr_matrix.columns:\n",
    "    if corr_matrix[col].dtype == \"O\":\n",
    "         corr_matrix[col] = corr_matrix[col].factorize(sort=True)[0]\n",
    "corr_matrix = corr_matrix.corr(method=\"pearson\")\n",
    "sns.heatmap(corr_matrix, vmin=-1., vmax=1., annot=True, fmt='.2f', cmap=\"YlGnBu\", cbar=True, linewidths=0.5)\n",
    "plt.title(\"pearson correlation\")"
   ]
  },
  {
   "cell_type": "markdown",
   "id": "1ba75c0a",
   "metadata": {},
   "source": [
    "# Train a model"
   ]
  },
  {
   "cell_type": "code",
   "execution_count": 10,
   "id": "a6d18f1f",
   "metadata": {},
   "outputs": [],
   "source": [
    "x = train.drop([\"price\", \"id\",\"size\"], axis = 1)\n",
    "y = train[\"price\"]\n",
    "\n",
    "x_train, x_test, y_train, y_test = train_test_split(x, y, test_size=0.2, random_state=200)"
   ]
  },
  {
   "cell_type": "markdown",
   "id": "5835ea6a",
   "metadata": {},
   "source": [
    "# Evaluate a model"
   ]
  },
  {
   "cell_type": "code",
   "execution_count": 11,
   "id": "c9ca1df0",
   "metadata": {},
   "outputs": [],
   "source": [
    "kNR = KNeighborsRegressor()\n",
    "DTR = DecisionTreeRegressor()\n",
    "LR = LinearRegression()\n",
    "LS = Lasso()\n",
    "EN = ElasticNet()\n",
    "RFR = RandomForestRegressor()\n",
    "\n",
    "models = [kNR, DTR, LR, LS, EN, RFR]"
   ]
  },
  {
   "cell_type": "code",
   "execution_count": 12,
   "id": "b1a273a4",
   "metadata": {},
   "outputs": [
    {
     "name": "stdout",
     "output_type": "stream",
     "text": [
      "KNeighborsRegressor()\n",
      "R2 Score:  0.27960042662412254\n",
      "rmse:  47042.45201435748\n",
      "---------------------------------------------------------------------------------\n",
      "DecisionTreeRegressor()\n",
      "R2 Score:  0.18131650256201726\n",
      "rmse:  50148.880815167926\n",
      "---------------------------------------------------------------------------------\n",
      "LinearRegression()\n",
      "R2 Score:  0.22193874685821147\n",
      "rmse:  48888.88373476486\n",
      "---------------------------------------------------------------------------------\n",
      "Lasso()\n",
      "R2 Score:  0.22199165250279207\n",
      "rmse:  48887.221563652856\n",
      "---------------------------------------------------------------------------------\n",
      "ElasticNet()\n",
      "R2 Score:  0.14496633169634543\n",
      "rmse:  51250.11392721228\n",
      "---------------------------------------------------------------------------------\n",
      "RandomForestRegressor()\n",
      "R2 Score:  0.29367712800015455\n",
      "rmse:  46580.57679196835\n",
      "---------------------------------------------------------------------------------\n"
     ]
    }
   ],
   "source": [
    "for model in models:\n",
    "    model.fit(x_train, y_train)\n",
    "    y_pred = model.predict(x_test)\n",
    "    print(model)\n",
    "    print(\"R2 Score: \", r2_score(y_test,y_pred))\n",
    "    print(\"rmse: \", mean_squared_error(y_test,y_pred, squared = False))\n",
    "    print(\"---------------------------------------------------------------------------------\")"
   ]
  },
  {
   "cell_type": "code",
   "execution_count": 13,
   "id": "f0aaee13",
   "metadata": {},
   "outputs": [
    {
     "name": "stdout",
     "output_type": "stream",
     "text": [
      "Parameters currently in use:\n",
      "\n",
      "{'bootstrap': True,\n",
      " 'ccp_alpha': 0.0,\n",
      " 'criterion': 'mse',\n",
      " 'max_depth': None,\n",
      " 'max_features': 'auto',\n",
      " 'max_leaf_nodes': None,\n",
      " 'max_samples': None,\n",
      " 'min_impurity_decrease': 0.0,\n",
      " 'min_impurity_split': None,\n",
      " 'min_samples_leaf': 1,\n",
      " 'min_samples_split': 2,\n",
      " 'min_weight_fraction_leaf': 0.0,\n",
      " 'n_estimators': 100,\n",
      " 'n_jobs': None,\n",
      " 'oob_score': False,\n",
      " 'random_state': None,\n",
      " 'verbose': 0,\n",
      " 'warm_start': False}\n"
     ]
    }
   ],
   "source": [
    "from pprint import pprint\n",
    "print('Parameters currently in use:\\n')\n",
    "pprint(RFR.get_params())"
   ]
  },
  {
   "cell_type": "code",
   "execution_count": 14,
   "id": "e530c757",
   "metadata": {},
   "outputs": [
    {
     "name": "stdout",
     "output_type": "stream",
     "text": [
      "{'bootstrap': [True, False],\n",
      " 'max_depth': [10, 20, 30, 40, 50, 60, 70, 80, 90, 100, 110, None],\n",
      " 'max_features': ['auto', 'sqrt'],\n",
      " 'min_samples_leaf': [1, 2, 4],\n",
      " 'min_samples_split': [2, 5, 10],\n",
      " 'n_estimators': [200, 400, 600, 800, 1000, 1200, 1400, 1600, 1800, 2000]}\n"
     ]
    }
   ],
   "source": [
    "from sklearn.model_selection import RandomizedSearchCV\n",
    "n_estimators = [int(x) for x in np.linspace(start = 200, stop = 2000, num = 10)]\n",
    "max_features = ['auto', 'sqrt']\n",
    "max_depth = [int(x) for x in np.linspace(10, 110, num = 11)]\n",
    "max_depth.append(None)\n",
    "min_samples_split = [2, 5, 10]\n",
    "min_samples_leaf = [1, 2, 4]\n",
    "bootstrap = [True, False]\n",
    "random_grid = {'n_estimators': n_estimators,\n",
    "               'max_features': max_features,\n",
    "               'max_depth': max_depth,\n",
    "               'min_samples_split': min_samples_split,\n",
    "               'min_samples_leaf': min_samples_leaf,\n",
    "               'bootstrap': bootstrap}\n",
    "pprint(random_grid)"
   ]
  },
  {
   "cell_type": "code",
   "execution_count": 15,
   "id": "fc59610b",
   "metadata": {},
   "outputs": [
    {
     "name": "stdout",
     "output_type": "stream",
     "text": [
      "Fitting 5 folds for each of 500 candidates, totalling 2500 fits\n"
     ]
    },
    {
     "data": {
      "text/plain": [
       "RandomizedSearchCV(cv=5, estimator=RandomForestRegressor(), n_iter=500,\n",
       "                   n_jobs=-1,\n",
       "                   param_distributions={'bootstrap': [True, False],\n",
       "                                        'max_depth': [10, 20, 30, 40, 50, 60,\n",
       "                                                      70, 80, 90, 100, 110,\n",
       "                                                      None],\n",
       "                                        'max_features': ['auto', 'sqrt'],\n",
       "                                        'min_samples_leaf': [1, 2, 4],\n",
       "                                        'min_samples_split': [2, 5, 10],\n",
       "                                        'n_estimators': [200, 400, 600, 800,\n",
       "                                                         1000, 1200, 1400, 1600,\n",
       "                                                         1800, 2000]},\n",
       "                   random_state=42, verbose=2)"
      ]
     },
     "execution_count": 15,
     "metadata": {},
     "output_type": "execute_result"
    }
   ],
   "source": [
    "rfr_random = RandomizedSearchCV(estimator = RFR, param_distributions = random_grid, n_iter = 500, cv = 5, verbose=2, random_state=42, n_jobs = -1)\n",
    "rfr_random.fit(x_train, y_train)"
   ]
  },
  {
   "cell_type": "code",
   "execution_count": 16,
   "id": "908d3a57",
   "metadata": {},
   "outputs": [
    {
     "data": {
      "text/plain": [
       "{'n_estimators': 1000,\n",
       " 'min_samples_split': 5,\n",
       " 'min_samples_leaf': 2,\n",
       " 'max_features': 'sqrt',\n",
       " 'max_depth': 10,\n",
       " 'bootstrap': True}"
      ]
     },
     "execution_count": 16,
     "metadata": {},
     "output_type": "execute_result"
    }
   ],
   "source": [
    "rfr_random.best_params_"
   ]
  },
  {
   "cell_type": "code",
   "execution_count": 17,
   "id": "8e234561",
   "metadata": {},
   "outputs": [
    {
     "name": "stdout",
     "output_type": "stream",
     "text": [
      "Model Performance\n",
      "Average Error: 34777.4499 degrees.\n",
      "Accuracy = 63.03%.\n",
      "Model Performance\n",
      "Average Error: 33807.7526 degrees.\n",
      "Accuracy = 64.34%.\n",
      "Improvement of 2.07%.\n"
     ]
    }
   ],
   "source": [
    "def evaluate(model, x_test, y_test):\n",
    "    predictions = model.predict(x_test)\n",
    "    errors = abs(predictions - y_test)\n",
    "    mape = 100 * np.mean(errors / y_test)\n",
    "    accuracy = 100 - mape\n",
    "    print('Model Performance')\n",
    "    print('Average Error: {:0.4f} degrees.'.format(np.mean(errors)))\n",
    "    print('Accuracy = {:0.2f}%.'.format(accuracy))\n",
    "    \n",
    "    return accuracy\n",
    "base_model = RandomForestRegressor(n_estimators = 10, random_state = 42)\n",
    "base_model.fit(x_train, y_train)\n",
    "base_accuracy = evaluate(base_model, x_test, y_test)\n",
    "\n",
    "best_random = rfr_random.best_estimator_\n",
    "random_accuracy = evaluate(best_random, x_test, y_test)\n",
    "\n",
    "print('Improvement of {:0.2f}%.'.format( 100 * (random_accuracy - base_accuracy) / base_accuracy))"
   ]
  },
  {
   "cell_type": "code",
   "execution_count": 18,
   "id": "569813a8",
   "metadata": {},
   "outputs": [
    {
     "name": "stdout",
     "output_type": "stream",
     "text": [
      "Fitting 5 folds for each of 500 candidates, totalling 2500 fits\n",
      "R2 Score:  0.3632670341798989\n",
      "rmse:  44226.4310851772\n"
     ]
    }
   ],
   "source": [
    "rfr_random.fit(x_train, y_train)\n",
    "y_pred = rfr_random.predict(x_test)\n",
    "\n",
    "print(\"R2 Score: \", r2_score(y_test,y_pred))\n",
    "print(\"rmse: \", mean_squared_error(y_test,y_pred, squared = False))"
   ]
  },
  {
   "cell_type": "code",
   "execution_count": null,
   "id": "3ac8d200",
   "metadata": {},
   "outputs": [],
   "source": []
  }
 ],
 "metadata": {
  "kernelspec": {
   "display_name": "Python 3",
   "language": "python",
   "name": "python3"
  },
  "language_info": {
   "codemirror_mode": {
    "name": "ipython",
    "version": 3
   },
   "file_extension": ".py",
   "mimetype": "text/x-python",
   "name": "python",
   "nbconvert_exporter": "python",
   "pygments_lexer": "ipython3",
   "version": "3.8.8"
  }
 },
 "nbformat": 4,
 "nbformat_minor": 5
}
