{
 "cells": [
  {
   "cell_type": "markdown",
   "id": "782721c7",
   "metadata": {},
   "source": [
    "# Import Library and import files"
   ]
  },
  {
   "cell_type": "markdown",
   "id": "52aa8b0d",
   "metadata": {},
   "source": [
    "Data collection method: web scraping\n",
    "Data is pre-cleaned"
   ]
  },
  {
   "cell_type": "code",
   "execution_count": 1,
   "id": "475e8014",
   "metadata": {},
   "outputs": [
    {
     "data": {
      "text/html": [
       "<div>\n",
       "<style scoped>\n",
       "    .dataframe tbody tr th:only-of-type {\n",
       "        vertical-align: middle;\n",
       "    }\n",
       "\n",
       "    .dataframe tbody tr th {\n",
       "        vertical-align: top;\n",
       "    }\n",
       "\n",
       "    .dataframe thead th {\n",
       "        text-align: right;\n",
       "    }\n",
       "</style>\n",
       "<table border=\"1\" class=\"dataframe\">\n",
       "  <thead>\n",
       "    <tr style=\"text-align: right;\">\n",
       "      <th></th>\n",
       "      <th>id</th>\n",
       "      <th>price</th>\n",
       "      <th>room</th>\n",
       "      <th>bath</th>\n",
       "      <th>size</th>\n",
       "      <th>gym</th>\n",
       "      <th>parking</th>\n",
       "      <th>pool</th>\n",
       "      <th>library</th>\n",
       "      <th>club</th>\n",
       "      <th>CBD</th>\n",
       "    </tr>\n",
       "  </thead>\n",
       "  <tbody>\n",
       "    <tr>\n",
       "      <th>0</th>\n",
       "      <td>10001</td>\n",
       "      <td>134272.73</td>\n",
       "      <td>1</td>\n",
       "      <td>1</td>\n",
       "      <td>52.00</td>\n",
       "      <td>1</td>\n",
       "      <td>1</td>\n",
       "      <td>1</td>\n",
       "      <td>0</td>\n",
       "      <td>0</td>\n",
       "      <td>1</td>\n",
       "    </tr>\n",
       "    <tr>\n",
       "      <th>1</th>\n",
       "      <td>10002</td>\n",
       "      <td>114297.82</td>\n",
       "      <td>1</td>\n",
       "      <td>1</td>\n",
       "      <td>34.99</td>\n",
       "      <td>1</td>\n",
       "      <td>0</td>\n",
       "      <td>1</td>\n",
       "      <td>0</td>\n",
       "      <td>0</td>\n",
       "      <td>1</td>\n",
       "    </tr>\n",
       "    <tr>\n",
       "      <th>2</th>\n",
       "      <td>10003</td>\n",
       "      <td>64316.15</td>\n",
       "      <td>2</td>\n",
       "      <td>2</td>\n",
       "      <td>98.00</td>\n",
       "      <td>1</td>\n",
       "      <td>0</td>\n",
       "      <td>1</td>\n",
       "      <td>0</td>\n",
       "      <td>0</td>\n",
       "      <td>1</td>\n",
       "    </tr>\n",
       "    <tr>\n",
       "      <th>3</th>\n",
       "      <td>10004</td>\n",
       "      <td>106245.32</td>\n",
       "      <td>1</td>\n",
       "      <td>1</td>\n",
       "      <td>45.70</td>\n",
       "      <td>1</td>\n",
       "      <td>0</td>\n",
       "      <td>1</td>\n",
       "      <td>0</td>\n",
       "      <td>0</td>\n",
       "      <td>1</td>\n",
       "    </tr>\n",
       "    <tr>\n",
       "      <th>4</th>\n",
       "      <td>10005</td>\n",
       "      <td>175187.95</td>\n",
       "      <td>2</td>\n",
       "      <td>2</td>\n",
       "      <td>97.00</td>\n",
       "      <td>1</td>\n",
       "      <td>0</td>\n",
       "      <td>0</td>\n",
       "      <td>0</td>\n",
       "      <td>0</td>\n",
       "      <td>1</td>\n",
       "    </tr>\n",
       "    <tr>\n",
       "      <th>...</th>\n",
       "      <td>...</td>\n",
       "      <td>...</td>\n",
       "      <td>...</td>\n",
       "      <td>...</td>\n",
       "      <td>...</td>\n",
       "      <td>...</td>\n",
       "      <td>...</td>\n",
       "      <td>...</td>\n",
       "      <td>...</td>\n",
       "      <td>...</td>\n",
       "      <td>...</td>\n",
       "    </tr>\n",
       "    <tr>\n",
       "      <th>1595</th>\n",
       "      <td>11596</td>\n",
       "      <td>78289.57</td>\n",
       "      <td>0</td>\n",
       "      <td>1</td>\n",
       "      <td>22.00</td>\n",
       "      <td>1</td>\n",
       "      <td>1</td>\n",
       "      <td>1</td>\n",
       "      <td>0</td>\n",
       "      <td>0</td>\n",
       "      <td>0</td>\n",
       "    </tr>\n",
       "    <tr>\n",
       "      <th>1596</th>\n",
       "      <td>11597</td>\n",
       "      <td>148638.65</td>\n",
       "      <td>1</td>\n",
       "      <td>2</td>\n",
       "      <td>70.00</td>\n",
       "      <td>1</td>\n",
       "      <td>1</td>\n",
       "      <td>1</td>\n",
       "      <td>0</td>\n",
       "      <td>0</td>\n",
       "      <td>0</td>\n",
       "    </tr>\n",
       "    <tr>\n",
       "      <th>1597</th>\n",
       "      <td>11598</td>\n",
       "      <td>175892.86</td>\n",
       "      <td>2</td>\n",
       "      <td>2</td>\n",
       "      <td>80.00</td>\n",
       "      <td>1</td>\n",
       "      <td>1</td>\n",
       "      <td>1</td>\n",
       "      <td>0</td>\n",
       "      <td>0</td>\n",
       "      <td>1</td>\n",
       "    </tr>\n",
       "    <tr>\n",
       "      <th>1598</th>\n",
       "      <td>11599</td>\n",
       "      <td>79545.45</td>\n",
       "      <td>1</td>\n",
       "      <td>1</td>\n",
       "      <td>32.00</td>\n",
       "      <td>1</td>\n",
       "      <td>0</td>\n",
       "      <td>1</td>\n",
       "      <td>0</td>\n",
       "      <td>0</td>\n",
       "      <td>0</td>\n",
       "    </tr>\n",
       "    <tr>\n",
       "      <th>1599</th>\n",
       "      <td>11600</td>\n",
       "      <td>120859.24</td>\n",
       "      <td>1</td>\n",
       "      <td>1</td>\n",
       "      <td>35.00</td>\n",
       "      <td>1</td>\n",
       "      <td>1</td>\n",
       "      <td>1</td>\n",
       "      <td>0</td>\n",
       "      <td>0</td>\n",
       "      <td>1</td>\n",
       "    </tr>\n",
       "  </tbody>\n",
       "</table>\n",
       "<p>1600 rows × 11 columns</p>\n",
       "</div>"
      ],
      "text/plain": [
       "         id      price  room  bath   size  gym  parking  pool  library  club  \\\n",
       "0     10001  134272.73     1     1  52.00    1        1     1        0     0   \n",
       "1     10002  114297.82     1     1  34.99    1        0     1        0     0   \n",
       "2     10003   64316.15     2     2  98.00    1        0     1        0     0   \n",
       "3     10004  106245.32     1     1  45.70    1        0     1        0     0   \n",
       "4     10005  175187.95     2     2  97.00    1        0     0        0     0   \n",
       "...     ...        ...   ...   ...    ...  ...      ...   ...      ...   ...   \n",
       "1595  11596   78289.57     0     1  22.00    1        1     1        0     0   \n",
       "1596  11597  148638.65     1     2  70.00    1        1     1        0     0   \n",
       "1597  11598  175892.86     2     2  80.00    1        1     1        0     0   \n",
       "1598  11599   79545.45     1     1  32.00    1        0     1        0     0   \n",
       "1599  11600  120859.24     1     1  35.00    1        1     1        0     0   \n",
       "\n",
       "      CBD   \n",
       "0        1  \n",
       "1        1  \n",
       "2        1  \n",
       "3        1  \n",
       "4        1  \n",
       "...    ...  \n",
       "1595     0  \n",
       "1596     0  \n",
       "1597     1  \n",
       "1598     0  \n",
       "1599     1  \n",
       "\n",
       "[1600 rows x 11 columns]"
      ]
     },
     "execution_count": 1,
     "metadata": {},
     "output_type": "execute_result"
    }
   ],
   "source": [
    "import numpy as np\n",
    "import pandas as pd\n",
    "from sklearn.model_selection import train_test_split\n",
    "from matplotlib import pyplot as plt\n",
    "from sklearn import metrics\n",
    "import seaborn as sns\n",
    "from sklearn.neighbors import KNeighborsRegressor\n",
    "from sklearn.tree import DecisionTreeRegressor\n",
    "from sklearn.linear_model import LinearRegression\n",
    "from sklearn.ensemble import RandomForestRegressor\n",
    "from sklearn.linear_model import Lasso\n",
    "from sklearn.linear_model import ElasticNet\n",
    "from sklearn.metrics import r2_score, mean_squared_error\n",
    "\n",
    "\n",
    "train = pd.read_csv(\"C:/Users/user/OneDrive/Desktop/condo_train.csv\")\n",
    "test = pd.read_csv(\"C:/Users/user/OneDrive/Desktop/condo_test.csv\")\n",
    "train"
   ]
  },
  {
   "cell_type": "code",
   "execution_count": 2,
   "id": "cf5e331e",
   "metadata": {},
   "outputs": [
    {
     "name": "stdout",
     "output_type": "stream",
     "text": [
      "id         0\n",
      "price      0\n",
      "room       0\n",
      "bath       0\n",
      "size       0\n",
      "gym        0\n",
      "parking    0\n",
      "pool       0\n",
      "library    0\n",
      "club       0\n",
      "CBD        0\n",
      "dtype: int64\n",
      "Duplicated:  0\n"
     ]
    }
   ],
   "source": [
    "print(train.isnull().sum())\n",
    "print(\"Duplicated: \",train[\"id\"].duplicated().sum())"
   ]
  },
  {
   "cell_type": "code",
   "execution_count": 3,
   "id": "f5ccbf19",
   "metadata": {},
   "outputs": [
    {
     "name": "stderr",
     "output_type": "stream",
     "text": [
      "C:\\Users\\user\\anaconda3\\lib\\site-packages\\seaborn\\_decorators.py:36: FutureWarning: Pass the following variable as a keyword arg: x. From version 0.12, the only valid positional argument will be `data`, and passing other arguments without an explicit keyword will result in an error or misinterpretation.\n",
      "  warnings.warn(\n",
      "C:\\Users\\user\\anaconda3\\lib\\site-packages\\seaborn\\_decorators.py:36: FutureWarning: Pass the following variable as a keyword arg: x. From version 0.12, the only valid positional argument will be `data`, and passing other arguments without an explicit keyword will result in an error or misinterpretation.\n",
      "  warnings.warn(\n",
      "C:\\Users\\user\\anaconda3\\lib\\site-packages\\seaborn\\_decorators.py:36: FutureWarning: Pass the following variable as a keyword arg: x. From version 0.12, the only valid positional argument will be `data`, and passing other arguments without an explicit keyword will result in an error or misinterpretation.\n",
      "  warnings.warn(\n",
      "C:\\Users\\user\\anaconda3\\lib\\site-packages\\seaborn\\_decorators.py:36: FutureWarning: Pass the following variable as a keyword arg: x. From version 0.12, the only valid positional argument will be `data`, and passing other arguments without an explicit keyword will result in an error or misinterpretation.\n",
      "  warnings.warn(\n",
      "<ipython-input-3-3d7d9fa59600>:15: UserWarning: Matplotlib is currently using module://ipykernel.pylab.backend_inline, which is a non-GUI backend, so cannot show the figure.\n",
      "  fig.show()\n"
     ]
    },
    {
     "data": {
      "image/png": "[encoded data removed]",
      "text/plain": [
       "<Figure size 432x288 with 4 Axes>"
      ]
     },
     "metadata": {
      "needs_background": "light"
     },
     "output_type": "display_data"
    }
   ],
   "source": [
    "Features = ['room','bath','gym','parking','pool','library','club','CBD']\n",
    "  \n",
    "room = train['room']\n",
    "bath = train['bath']\n",
    "gym = train['gym']\n",
    "parking = train['parking']\n",
    "\n",
    "\n",
    "fig, ax =plt.subplots(1,4)\n",
    "sns.countplot(room, ax=ax[0])\n",
    "sns.countplot(bath, ax=ax[1])\n",
    "sns.countplot(gym, ax=ax[2])\n",
    "sns.countplot(parking, ax=ax[3])\n",
    "\n",
    "fig.show()"
   ]
  },
  {
   "cell_type": "code",
   "execution_count": 4,
   "id": "f23b3596",
   "metadata": {},
   "outputs": [
    {
     "name": "stderr",
     "output_type": "stream",
     "text": [
      "C:\\Users\\user\\anaconda3\\lib\\site-packages\\seaborn\\_decorators.py:36: FutureWarning: Pass the following variable as a keyword arg: x. From version 0.12, the only valid positional argument will be `data`, and passing other arguments without an explicit keyword will result in an error or misinterpretation.\n",
      "  warnings.warn(\n",
      "C:\\Users\\user\\anaconda3\\lib\\site-packages\\seaborn\\_decorators.py:36: FutureWarning: Pass the following variable as a keyword arg: x. From version 0.12, the only valid positional argument will be `data`, and passing other arguments without an explicit keyword will result in an error or misinterpretation.\n",
      "  warnings.warn(\n",
      "C:\\Users\\user\\anaconda3\\lib\\site-packages\\seaborn\\_decorators.py:36: FutureWarning: Pass the following variable as a keyword arg: x. From version 0.12, the only valid positional argument will be `data`, and passing other arguments without an explicit keyword will result in an error or misinterpretation.\n",
      "  warnings.warn(\n"
     ]
    },
    {
     "data": {
      "text/plain": [
       "<AxesSubplot:xlabel='pool', ylabel='count'>"
      ]
     },
     "execution_count": 4,
     "metadata": {},
     "output_type": "execute_result"
    },
    {
     "data": {
      "image/png": "[encoded data removed]",
      "text/plain": [
       "<Figure size 432x288 with 3 Axes>"
      ]
     },
     "metadata": {
      "needs_background": "light"
     },
     "output_type": "display_data"
    }
   ],
   "source": [
    "pool = train['pool']\n",
    "library = train['library']\n",
    "club = train['club']\n",
    "\n",
    "fig, ax =plt.subplots(1,3)\n",
    "sns.countplot(library, ax=ax[0])\n",
    "sns.countplot(club, ax=ax[1])\n",
    "sns.countplot(pool, ax=ax[2])"
   ]
  },
  {
   "cell_type": "code",
   "execution_count": 5,
   "id": "2fafa055",
   "metadata": {},
   "outputs": [
    {
     "data": {
      "image/png": "[encoded data removed]",
      "text/plain": [
       "<Figure size 432x288 with 1 Axes>"
      ]
     },
     "metadata": {
      "needs_background": "light"
     },
     "output_type": "display_data"
    }
   ],
   "source": [
    "price_range = train[\"price\"]\n",
    "\n",
    "plt.hist(price_range)\n",
    "plt.show() "
   ]
  },
  {
   "cell_type": "code",
   "execution_count": 6,
   "id": "3a70a764",
   "metadata": {},
   "outputs": [],
   "source": [
    "train.drop(train[train[\"room\"] == 0].index, inplace = True)"
   ]
  },
  {
   "cell_type": "code",
   "execution_count": 7,
   "id": "00c2093e",
   "metadata": {},
   "outputs": [
    {
     "data": {
      "image/png": "[encoded data removed]",
      "text/plain": [
       "<Figure size 432x288 with 1 Axes>"
      ]
     },
     "metadata": {
      "needs_background": "light"
     },
     "output_type": "display_data"
    }
   ],
   "source": [
    "size_range = train[\"size\"]\n",
    "\n",
    "plt.hist(size_range)\n",
    "plt.show()"
   ]
  },
  {
   "cell_type": "code",
   "execution_count": 8,
   "id": "45a7c24f",
   "metadata": {},
   "outputs": [
    {
     "data": {
      "text/plain": [
       "Text(0.5, 1.0, 'pearson correlation')"
      ]
     },
     "execution_count": 8,
     "metadata": {},
     "output_type": "execute_result"
    },
    {
     "data": {
      "image/png": "[encoded data removed]",
      "text/plain": [
       "<Figure size 432x288 with 2 Axes>"
      ]
     },
     "metadata": {
      "needs_background": "light"
     },
     "output_type": "display_data"
    }
   ],
   "source": [
    "corr_matrix = train.copy()\n",
    "for col in corr_matrix.columns:\n",
    "    if corr_matrix[col].dtype == \"O\":\n",
    "         corr_matrix[col] = corr_matrix[col].factorize(sort=True)[0]\n",
    "corr_matrix = corr_matrix.corr(method=\"pearson\")\n",
    "sns.heatmap(corr_matrix, vmin=-1., vmax=1., annot=True, fmt='.2f', cmap=\"YlGnBu\", cbar=True, linewidths=0.5)\n",
    "plt.title(\"pearson correlation\")"
   ]
  },
  {
   "cell_type": "markdown",
   "id": "1ba75c0a",
   "metadata": {},
   "source": [
    "# Train a model"
   ]
  },
  {
   "cell_type": "code",
   "execution_count": 9,
   "id": "a6d18f1f",
   "metadata": {},
   "outputs": [],
   "source": [
    "x = train.drop([\"price\", \"id\"], axis = 1)\n",
    "y = train[\"price\"]\n",
    "\n",
    "x_train, x_test, y_train, y_test = train_test_split(x, y, test_size=0.2, random_state=123)"
   ]
  },
  {
   "cell_type": "markdown",
   "id": "5835ea6a",
   "metadata": {},
   "source": [
    "# Evaluate a model"
   ]
  },
  {
   "cell_type": "code",
   "execution_count": 10,
   "id": "c9ca1df0",
   "metadata": {},
   "outputs": [],
   "source": [
    "kNR = KNeighborsRegressor()\n",
    "DTR = DecisionTreeRegressor()\n",
    "LR = LinearRegression()\n",
    "LS = Lasso()\n",
    "EN = ElasticNet()\n",
    "RFR = RandomForestRegressor()\n",
    "\n",
    "models = [kNR, DTR, LR, LS, EN, RFR]"
   ]
  },
  {
   "cell_type": "code",
   "execution_count": 11,
   "id": "b1a273a4",
   "metadata": {},
   "outputs": [
    {
     "name": "stdout",
     "output_type": "stream",
     "text": [
      "KNeighborsRegressor()\n",
      "R2 Score:  0.1455505154399107\n",
      "rmse:  47699.52726030177\n",
      "---------------------------------------------------------------------------------\n",
      "DecisionTreeRegressor()\n",
      "R2 Score:  -0.02973283655718051\n",
      "rmse:  52364.041666777055\n",
      "---------------------------------------------------------------------------------\n",
      "LinearRegression()\n",
      "R2 Score:  0.2595197525624967\n",
      "rmse:  44404.56478364132\n",
      "---------------------------------------------------------------------------------\n",
      "Lasso()\n",
      "R2 Score:  0.2595086340303554\n",
      "rmse:  44404.89815629317\n",
      "---------------------------------------------------------------------------------\n",
      "ElasticNet()\n",
      "R2 Score:  0.15690844305573337\n",
      "rmse:  47381.439274319615\n",
      "---------------------------------------------------------------------------------\n",
      "RandomForestRegressor()\n",
      "R2 Score:  0.17177971276894588\n",
      "rmse:  46961.7001191964\n",
      "---------------------------------------------------------------------------------\n"
     ]
    }
   ],
   "source": [
    "for model in models:\n",
    "    model.fit(x_train, y_train)\n",
    "    y_pred = model.predict(x_test)\n",
    "    print(model)\n",
    "    print(\"R2 Score: \", r2_score(y_test,y_pred))\n",
    "    print(\"rmse: \", mean_squared_error(y_test,y_pred, squared = False))\n",
    "    print(\"---------------------------------------------------------------------------------\")\n"
   ]
  },
  {
   "cell_type": "code",
   "execution_count": null,
   "id": "f0aaee13",
   "metadata": {},
   "outputs": [],
   "source": []
  }
 ],
 "metadata": {
  "kernelspec": {
   "display_name": "Python 3",
   "language": "python",
   "name": "python3"
  },
  "language_info": {
   "codemirror_mode": {
    "name": "ipython",
    "version": 3
   },
   "file_extension": ".py",
   "mimetype": "text/x-python",
   "name": "python",
   "nbconvert_exporter": "python",
   "pygments_lexer": "ipython3",
   "version": "3.8.8"
  }
 },
 "nbformat": 4,
 "nbformat_minor": 5
}
